{
 "cells": [
  {
   "cell_type": "code",
   "execution_count": 1,
   "metadata": {},
   "outputs": [],
   "source": [
    "from collections import namedtuple\n",
    "from itertools import chain, groupby\n",
    "import csv\n",
    "import numpy"
   ]
  },
  {
   "cell_type": "code",
   "execution_count": null,
   "metadata": {},
   "outputs": [],
   "source": []
  },
  {
   "cell_type": "code",
   "execution_count": 2,
   "metadata": {},
   "outputs": [],
   "source": [
    "Match = namedtuple(\"Match\", ['gameId', 'date', 'time', 'team1', 'team2', 'group'])\n",
    "Prediction = namedtuple(\"Prediction\", ['team1', 'team2', 'outcome', 'sd'])\n",
    "Team = namedtuple(\"Team\", ['name', 'draw'])\n",
    "Result = namedtuple(\"Result\", ['match', 'team1Score', 'team2Score'])\n",
    "TeamResult = namedtuple(\"TeamResult\", ['name', 'opponent', 'group', 'gs', 'ga'])\n",
    "TeamRecord = namedtuple(\"TeamRecord\", ['name', 'group', 'p', 'gs', 'ga', 'defeated'])"
   ]
  },
  {
   "cell_type": "code",
   "execution_count": null,
   "metadata": {},
   "outputs": [],
   "source": []
  },
  {
   "cell_type": "code",
   "execution_count": 3,
   "metadata": {},
   "outputs": [],
   "source": [
    "def loadCsv(filepath, itemtype):\n",
    "    with open(filepath, 'r') as csvfile:\n",
    "        reader = csv.DictReader(csvfile, delimiter=',')\n",
    "        return list(map(lambda row: itemtype(**row), reader))"
   ]
  },
  {
   "cell_type": "code",
   "execution_count": 4,
   "metadata": {},
   "outputs": [],
   "source": [
    "def getActualGroupMatch(match, teams):\n",
    "    return Match(gameId = match.gameId, date = match.date, time = match.time, group = match.group,\n",
    "        team1 = next(team.name for team in teams if team.draw == match.team1),\n",
    "        team2 = next(team.name for team in teams if team.draw == match.team2),       \n",
    "        )"
   ]
  },
  {
   "cell_type": "code",
   "execution_count": 5,
   "metadata": {},
   "outputs": [],
   "source": [
    "def getActualEliminationMatch(match, qualified):\n",
    "    return Match(gameId = match.gameId, date = match.date, time = match.time, group = match.group,\n",
    "        team1 = qualified[match.team1],\n",
    "        team2 = qualified[match.team2],\n",
    "        )"
   ]
  },
  {
   "cell_type": "code",
   "execution_count": 6,
   "metadata": {},
   "outputs": [],
   "source": [
    "def getResult(match, predictions):\n",
    "    allowtie = match.group != None \n",
    "    prediction = next(pred for pred in predictions \\\n",
    "        if (pred.team1 == match.team1 and pred.team2 == match.team2) or \\\n",
    "            (pred.team1 == match.team2 and pred.team2 == match.team1)) \n",
    "    reverse = prediction.team1 != match.team1\n",
    "    goaldiff = numpy.random.normal(float(prediction.outcome), float(prediction.sd))\n",
    "    reverse = reverse != (goaldiff < 0) \n",
    "    normgoaldiff = 0 if abs(goaldiff) <= 0.4475 \\\n",
    "        else 1 if abs(goaldiff) < 1 else round(abs(goaldiff))\n",
    "    if not(allowtie) and normgoaldiff == 0:\n",
    "        normgoaldiff = 1\n",
    "    losergoals = round(abs(numpy.random.normal(0, 1)))\n",
    "    return Result(match, losergoals, losergoals + normgoaldiff) if reverse \\\n",
    "        else Result(match, losergoals + normgoaldiff, losergoals)"
   ]
  },
  {
   "cell_type": "code",
   "execution_count": 7,
   "metadata": {},
   "outputs": [],
   "source": [
    "def getTeamPerfFromResult(result):\n",
    "    return [TeamResult(name=result.match.team1, opponent=result.match.team2, group=result.match.group, gs=result.team1Score, ga=result.team2Score),\n",
    "    TeamResult(name=result.match.team2, opponent=result.match.team1, group=result.match.group, gs=result.team2Score, ga=result.team1Score)]"
   ]
  },
  {
   "cell_type": "code",
   "execution_count": 8,
   "metadata": {},
   "outputs": [],
   "source": [
    "def getTeamRecord(name, teamResults):\n",
    "    points = w = d = gs = ga = 0\n",
    "    group = ''\n",
    "    defeated = []\n",
    "    for result in teamResults:\n",
    "        group = result.group\n",
    "        gs += result.gs\n",
    "        ga += result.ga\n",
    "        if result.gs > result.ga:\n",
    "            w += 1\n",
    "            defeated.append(result.opponent)\n",
    "        elif result.gs == result.ga:\n",
    "            d += 1\n",
    "    return TeamRecord(name=name, group=group, p=3*w+d, gs=gs, ga=ga, defeated=defeated)"
   ]
  },
  {
   "cell_type": "code",
   "execution_count": 9,
   "metadata": {},
   "outputs": [],
   "source": [
    "def runGroupStage(schedule, predictions, teams):\n",
    "    groupschedule = list(map(lambda x: getActualGroupMatch(x, teams), filter(lambda x: x.group != None, schedule)))\n",
    "    groupresults = list(map(lambda x: getResult(x, predictions), groupschedule))\n",
    "    groupperfs = list(chain.from_iterable(map(getTeamPerfFromResult, groupresults)))\n",
    "    records = []\n",
    "    for k, g in groupby(sorted(groupperfs, key=lambda x: x.name), key=lambda x: x.name):\n",
    "        records.append(getTeamRecord(k, g))\n",
    "    qualified = {}\n",
    "    group_standings = {}\n",
    "    group_table_total = {}\n",
    "    for k, g in groupby(sorted(records, key=lambda x: x.group), key=lambda x: x.group):\n",
    "        grouptable = sorted(g, key=lambda x: 1000000*x.p + 10000*(x.gs-x.ga) + 100*(x.gs), reverse=True)\n",
    "        qualified['1' + k] = grouptable[0].name\n",
    "        qualified['2' + k] = grouptable[1].name\n",
    "        \n",
    "        group_standings['1' + k] = grouptable[0].name\n",
    "        group_standings['2' + k] = grouptable[1].name\n",
    "        group_standings['3' + k] = grouptable[2].name\n",
    "        group_standings['4' + k] = grouptable[3].name\n",
    "        \n",
    "        \n",
    "        \n",
    "        group_table_standings = []\n",
    "        \n",
    "        group_table_standings.append([grouptable[0].name, grouptable[0].gs, grouptable[0].ga, grouptable[0].p])\n",
    "        group_table_standings.append([grouptable[1].name, grouptable[1].gs, grouptable[1].ga, grouptable[1].p])\n",
    "        group_table_standings.append([grouptable[2].name, grouptable[2].gs, grouptable[2].ga, grouptable[2].p])\n",
    "        group_table_standings.append([grouptable[3].name, grouptable[3].gs, grouptable[3].ga, grouptable[3].p])\n",
    "        \n",
    "        group_table_total[grouptable[0].group] = group_table_standings\n",
    "    return qualified, group_standings, groupresults, group_table_total"
   ]
  },
  {
   "cell_type": "code",
   "execution_count": null,
   "metadata": {},
   "outputs": [],
   "source": []
  },
  {
   "cell_type": "code",
   "execution_count": 10,
   "metadata": {},
   "outputs": [],
   "source": [
    "def runEliminationRound(round, prevround, schedule, predictions):\n",
    "    roundschedule = list(map(lambda x: getActualEliminationMatch(x, prevround), filter(lambda x: x.gameId.startswith('G'+round), schedule)))\n",
    "    roundresults = list(map(lambda x: getResult(x, predictions), roundschedule))\n",
    "    results = {}\n",
    "    for result in roundresults:\n",
    "        results['W' + result.match.gameId] = result.match.team1 if result.team1Score > result.team2Score \\\n",
    "            else result.match.team2\n",
    "        results['L' + result.match.gameId] = result.match.team1 if result.team1Score < result.team2Score \\\n",
    "            else result.match.team2\n",
    "    return results, roundresults"
   ]
  },
  {
   "cell_type": "code",
   "execution_count": null,
   "metadata": {},
   "outputs": [],
   "source": []
  },
  {
   "cell_type": "code",
   "execution_count": 11,
   "metadata": {},
   "outputs": [],
   "source": [
    "schedule = loadCsv('fifawm/tournament/data/schedule_fifa_fs.csv', Match)\n",
    "predictions = loadCsv('data/wc2018staticPredictions.csv', Prediction)\n",
    "teams = loadCsv('data/wc2018qualified.csv', Team)"
   ]
  },
  {
   "cell_type": "code",
   "execution_count": null,
   "metadata": {
    "scrolled": true
   },
   "outputs": [],
   "source": []
  },
  {
   "cell_type": "code",
   "execution_count": 12,
   "metadata": {},
   "outputs": [],
   "source": [
    "with open(\"simresultsasd.csv\", \"w+\") as f:\n",
    "#     f.write('iteration,winner\\n')\n",
    "    for i in range(1):\n",
    "#     for i in range(10000):\n",
    "        results, group_standings, groupresults, group_table_total = runGroupStage(schedule, predictions, teams)\n",
    "        asd = results\n",
    "        all_rounds = []\n",
    "        for rnd in ['AF','QF','SF','FN']:\n",
    "            results, roundresults = runEliminationRound(rnd, results, schedule, predictions)\n",
    "            all_rounds.append(roundresults)\n",
    "\n",
    "#         f.write(str(i+1) + ',' + results['WGFN2'] + '\\n')"
   ]
  },
  {
   "cell_type": "code",
   "execution_count": 13,
   "metadata": {
    "scrolled": true
   },
   "outputs": [
    {
     "data": {
      "text/plain": [
       "{'A': [['URU', 6, 3, 6], ['RUS', 4, 4, 6], ['KSA', 6, 7, 4], ['EGY', 2, 4, 1]],\n",
       " 'B': [['POR', 8, 2, 7],\n",
       "  ['IRN', 9, 6, 6],\n",
       "  ['ESP', 5, 6, 4],\n",
       "  ['MAR', 4, 12, 0]],\n",
       " 'C': [['FRA', 9, 5, 6],\n",
       "  ['AUS', 11, 8, 6],\n",
       "  ['PER', 3, 6, 3],\n",
       "  ['DEN', 5, 9, 3]],\n",
       " 'D': [['ARG', 11, 2, 9],\n",
       "  ['CRO', 2, 2, 4],\n",
       "  ['NGA', 1, 6, 2],\n",
       "  ['ISL', 2, 6, 1]],\n",
       " 'E': [['BRA', 3, 1, 7], ['SRB', 4, 2, 6], ['SUI', 4, 3, 3], ['CRC', 3, 8, 1]],\n",
       " 'F': [['GER', 8, 3, 7], ['SWE', 4, 3, 5], ['KOR', 2, 5, 2], ['MEX', 4, 7, 1]],\n",
       " 'G': [['ENG', 7, 3, 6], ['BEL', 5, 4, 6], ['TUN', 4, 6, 3], ['PAN', 3, 6, 3]],\n",
       " 'H': [['SEN', 7, 3, 7], ['POL', 4, 3, 4], ['JPN', 3, 5, 2], ['COL', 2, 5, 2]]}"
      ]
     },
     "execution_count": 13,
     "metadata": {},
     "output_type": "execute_result"
    }
   ],
   "source": [
    "group_table_total"
   ]
  },
  {
   "cell_type": "code",
   "execution_count": null,
   "metadata": {},
   "outputs": [],
   "source": []
  },
  {
   "cell_type": "code",
   "execution_count": null,
   "metadata": {},
   "outputs": [],
   "source": []
  },
  {
   "cell_type": "code",
   "execution_count": 14,
   "metadata": {},
   "outputs": [],
   "source": [
    "import pandas as pd"
   ]
  },
  {
   "cell_type": "code",
   "execution_count": 15,
   "metadata": {},
   "outputs": [],
   "source": [
    "columns = ['date', 'team1', 'team2', 'group', 'result']\n",
    "new_df = pd.DataFrame(columns=columns)"
   ]
  },
  {
   "cell_type": "code",
   "execution_count": null,
   "metadata": {},
   "outputs": [],
   "source": []
  },
  {
   "cell_type": "code",
   "execution_count": 16,
   "metadata": {},
   "outputs": [],
   "source": [
    "columns = ['gameID', 'date', 'team1', 'team2', 'group', 'result']\n",
    "new_df = pd.DataFrame(columns=columns)\n",
    "for match in groupresults:\n",
    "    new_df = new_df.append(pd.DataFrame([[match.match.gameId,\n",
    "                                          match.match.date, \n",
    "                                          match.match.team1, \n",
    "                                          match.match.team2, \n",
    "                                          match.match.group, \n",
    "                                          '{}-{}'.format(match.team1Score, \n",
    "                                                         match.team2Score)]], \n",
    "                                         columns=columns))\n",
    "    \n",
    "\n",
    "for round in all_rounds:\n",
    "    for match in round:\n",
    "        new_df = new_df.append(pd.DataFrame([[match.match.gameId,\n",
    "                                              match.match.date, \n",
    "                                              match.match.team1, \n",
    "                                              match.match.team2, \n",
    "                                              match.match.group, \n",
    "                                              '{}-{}'.format(match.team1Score, \n",
    "                                                             match.team2Score)]], \n",
    "                                             columns=columns))"
   ]
  },
  {
   "cell_type": "code",
   "execution_count": null,
   "metadata": {
    "scrolled": true
   },
   "outputs": [],
   "source": []
  },
  {
   "cell_type": "code",
   "execution_count": 17,
   "metadata": {},
   "outputs": [],
   "source": [
    "data = open('simresults.csv').readlines()"
   ]
  },
  {
   "cell_type": "code",
   "execution_count": 18,
   "metadata": {},
   "outputs": [],
   "source": [
    "winners = [line.strip().split(',')[1] for line in data[1:]]"
   ]
  },
  {
   "cell_type": "code",
   "execution_count": 19,
   "metadata": {},
   "outputs": [],
   "source": [
    "from collections import Counter"
   ]
  },
  {
   "cell_type": "code",
   "execution_count": null,
   "metadata": {},
   "outputs": [],
   "source": []
  },
  {
   "cell_type": "code",
   "execution_count": 20,
   "metadata": {
    "scrolled": true
   },
   "outputs": [
    {
     "data": {
      "text/plain": [
       "[('BRA', 1248),\n",
       " ('ARG', 1101),\n",
       " ('GER', 952),\n",
       " ('RUS', 887),\n",
       " ('ENG', 709),\n",
       " ('POR', 687),\n",
       " ('FRA', 614),\n",
       " ('ESP', 613),\n",
       " ('SUI', 536),\n",
       " ('CRO', 405),\n",
       " ('BEL', 381),\n",
       " ('DEN', 223),\n",
       " ('COL', 193),\n",
       " ('SRB', 175),\n",
       " ('URU', 168),\n",
       " ('MEX', 156),\n",
       " ('POL', 105),\n",
       " ('SWE', 104),\n",
       " ('KOR', 99),\n",
       " ('AUS', 91),\n",
       " ('IRN', 87),\n",
       " ('JPN', 86),\n",
       " ('KSA', 81),\n",
       " ('CRC', 64),\n",
       " ('NGA', 57),\n",
       " ('SEN', 36),\n",
       " ('TUN', 32),\n",
       " ('PAN', 31),\n",
       " ('EGY', 26),\n",
       " ('MAR', 22),\n",
       " ('ISL', 16),\n",
       " ('PER', 15)]"
      ]
     },
     "execution_count": 20,
     "metadata": {},
     "output_type": "execute_result"
    }
   ],
   "source": [
    "Counter(winners).most_common()"
   ]
  },
  {
   "cell_type": "code",
   "execution_count": null,
   "metadata": {},
   "outputs": [],
   "source": []
  },
  {
   "cell_type": "code",
   "execution_count": null,
   "metadata": {},
   "outputs": [],
   "source": []
  },
  {
   "cell_type": "code",
   "execution_count": 21,
   "metadata": {},
   "outputs": [],
   "source": [
    "schedule_fifa_sm = open('worldcup/static/data/schedule_fifa.csv').readlines()"
   ]
  },
  {
   "cell_type": "code",
   "execution_count": 22,
   "metadata": {},
   "outputs": [],
   "source": [
    "schedule_fifa_sm = [line.strip() for line in schedule_fifa_sm[1:-16]]"
   ]
  },
  {
   "cell_type": "code",
   "execution_count": 23,
   "metadata": {
    "scrolled": true
   },
   "outputs": [],
   "source": [
    "teams = open('data/teams.csv').readlines()"
   ]
  },
  {
   "cell_type": "code",
   "execution_count": 24,
   "metadata": {},
   "outputs": [],
   "source": [
    "teams = {team.split(',')[1]:team.split(',')[2] for team in teams[1:]}"
   ]
  },
  {
   "cell_type": "code",
   "execution_count": null,
   "metadata": {},
   "outputs": [],
   "source": []
  },
  {
   "cell_type": "code",
   "execution_count": 25,
   "metadata": {},
   "outputs": [],
   "source": [
    "groupss = open('data/wc2018qualified.csv').readlines()"
   ]
  },
  {
   "cell_type": "code",
   "execution_count": 26,
   "metadata": {},
   "outputs": [],
   "source": [
    "groupss = [line.strip() for line in groupss[1:]]"
   ]
  },
  {
   "cell_type": "code",
   "execution_count": 27,
   "metadata": {},
   "outputs": [],
   "source": [
    "groupss = {elem.split(',')[0]:elem.split(',')[1] for elem in groupss}"
   ]
  },
  {
   "cell_type": "code",
   "execution_count": null,
   "metadata": {},
   "outputs": [],
   "source": []
  },
  {
   "cell_type": "code",
   "execution_count": 28,
   "metadata": {},
   "outputs": [],
   "source": [
    "#gameId,date,time,team1,team2,group"
   ]
  },
  {
   "cell_type": "code",
   "execution_count": null,
   "metadata": {},
   "outputs": [],
   "source": []
  },
  {
   "cell_type": "code",
   "execution_count": 29,
   "metadata": {},
   "outputs": [],
   "source": [
    "gid_counter = {'A': 0, 'B' : 0, 'C' : 0, 'D' : 0, 'E' : 0, 'F' : 0, 'G' : 0, 'H' : 0}\n",
    "with open('schedule_fifa_fs.csv', 'w') as out_file:\n",
    "    for match in schedule_fifa_sm:\n",
    "        elems = match.split(',')\n",
    "#         if elems[0] is in ['123']:\n",
    "        group = elems[-2].split(' ')[-1]\n",
    "        gid_counter[group] = gid_counter[group] + 1\n",
    "        \n",
    "        gameID = 'G{}{}'.format(group, gid_counter[group])\n",
    "        date = elems[1].split(' ')[0]\n",
    "        time = elems[1].split(' ')[1]\n",
    "        team1 = groupss[teams[elems[-3]]]\n",
    "        team2 = groupss[teams[elems[-4]]]\n",
    "        \n",
    "        out_file.write('{},{},{},{},{},{}\\n'.format(gameID, date, time, team1, team2, group))\n",
    "    \n",
    "    "
   ]
  },
  {
   "cell_type": "code",
   "execution_count": 30,
   "metadata": {},
   "outputs": [
    {
     "data": {
      "text/plain": [
       "'G1'"
      ]
     },
     "execution_count": 30,
     "metadata": {},
     "output_type": "execute_result"
    }
   ],
   "source": [
    "groupss[teams[elems[-3]]]"
   ]
  },
  {
   "cell_type": "code",
   "execution_count": null,
   "metadata": {},
   "outputs": [],
   "source": []
  },
  {
   "cell_type": "code",
   "execution_count": null,
   "metadata": {},
   "outputs": [],
   "source": []
  },
  {
   "cell_type": "code",
   "execution_count": null,
   "metadata": {},
   "outputs": [],
   "source": []
  },
  {
   "cell_type": "code",
   "execution_count": null,
   "metadata": {},
   "outputs": [],
   "source": []
  }
 ],
 "metadata": {
  "kernelspec": {
   "display_name": "Python 3",
   "language": "python",
   "name": "python3"
  },
  "language_info": {
   "codemirror_mode": {
    "name": "ipython",
    "version": 3
   },
   "file_extension": ".py",
   "mimetype": "text/x-python",
   "name": "python",
   "nbconvert_exporter": "python",
   "pygments_lexer": "ipython3",
   "version": "3.6.5"
  }
 },
 "nbformat": 4,
 "nbformat_minor": 2
}
