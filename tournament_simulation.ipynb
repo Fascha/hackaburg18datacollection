{
 "cells": [
  {
   "cell_type": "code",
   "execution_count": 1,
   "metadata": {},
   "outputs": [],
   "source": [
    "from collections import namedtuple\n",
    "from itertools import chain, groupby\n",
    "import csv\n",
    "import numpy"
   ]
  },
  {
   "cell_type": "code",
   "execution_count": null,
   "metadata": {},
   "outputs": [],
   "source": []
  },
  {
   "cell_type": "code",
   "execution_count": 2,
   "metadata": {},
   "outputs": [],
   "source": [
    "Match = namedtuple(\"Match\", ['gameId', 'date', 'time', 'team1', 'team2', 'group'])\n",
    "Prediction = namedtuple(\"Prediction\", ['team1', 'team2', 'outcome', 'sd'])\n",
    "Team = namedtuple(\"Team\", ['name', 'draw'])\n",
    "Result = namedtuple(\"Result\", ['match', 'team1Score', 'team2Score'])\n",
    "TeamResult = namedtuple(\"TeamResult\", ['name', 'opponent', 'group', 'gs', 'ga'])\n",
    "TeamRecord = namedtuple(\"TeamRecord\", ['name', 'group', 'p', 'gs', 'ga', 'defeated'])"
   ]
  },
  {
   "cell_type": "code",
   "execution_count": null,
   "metadata": {},
   "outputs": [],
   "source": []
  },
  {
   "cell_type": "code",
   "execution_count": 3,
   "metadata": {},
   "outputs": [],
   "source": [
    "def loadCsv(filepath, itemtype):\n",
    "    with open(filepath, 'r') as csvfile:\n",
    "        reader = csv.DictReader(csvfile, delimiter=',')\n",
    "        return list(map(lambda row: itemtype(**row), reader))"
   ]
  },
  {
   "cell_type": "code",
   "execution_count": 4,
   "metadata": {},
   "outputs": [],
   "source": [
    "def getActualGroupMatch(match, teams):\n",
    "    return Match(gameId = match.gameId, date = match.date, time = match.time, group = match.group,\n",
    "        team1 = next(team.name for team in teams if team.draw == match.team1),\n",
    "        team2 = next(team.name for team in teams if team.draw == match.team2),       \n",
    "        )"
   ]
  },
  {
   "cell_type": "code",
   "execution_count": 5,
   "metadata": {},
   "outputs": [],
   "source": [
    "def getActualEliminationMatch(match, qualified):\n",
    "    return Match(gameId = match.gameId, date = match.date, time = match.time, group = match.group,\n",
    "        team1 = qualified[match.team1],\n",
    "        team2 = qualified[match.team2],\n",
    "        )"
   ]
  },
  {
   "cell_type": "code",
   "execution_count": 6,
   "metadata": {},
   "outputs": [],
   "source": [
    "def getResult(match, predictions):\n",
    "    allowtie = match.group != None \n",
    "    prediction = next(pred for pred in predictions \\\n",
    "        if (pred.team1 == match.team1 and pred.team2 == match.team2) or \\\n",
    "            (pred.team1 == match.team2 and pred.team2 == match.team1)) \n",
    "    reverse = prediction.team1 != match.team1\n",
    "    goaldiff = numpy.random.normal(float(prediction.outcome), float(prediction.sd))\n",
    "    reverse = reverse != (goaldiff < 0) \n",
    "    normgoaldiff = 0 if abs(goaldiff) <= 0.4475 \\\n",
    "        else 1 if abs(goaldiff) < 1 else round(abs(goaldiff))\n",
    "    if not(allowtie) and normgoaldiff == 0:\n",
    "        normgoaldiff = 1\n",
    "    losergoals = round(abs(numpy.random.normal(0, 1)))\n",
    "    return Result(match, losergoals, losergoals + normgoaldiff) if reverse \\\n",
    "        else Result(match, losergoals + normgoaldiff, losergoals)"
   ]
  },
  {
   "cell_type": "code",
   "execution_count": 7,
   "metadata": {},
   "outputs": [],
   "source": [
    "def getTeamPerfFromResult(result):\n",
    "    return [TeamResult(name=result.match.team1, opponent=result.match.team2, group=result.match.group, gs=result.team1Score, ga=result.team2Score),\n",
    "    TeamResult(name=result.match.team2, opponent=result.match.team1, group=result.match.group, gs=result.team2Score, ga=result.team1Score)]"
   ]
  },
  {
   "cell_type": "code",
   "execution_count": 8,
   "metadata": {},
   "outputs": [],
   "source": [
    "def getTeamRecord(name, teamResults):\n",
    "    points = w = d = gs = ga = 0\n",
    "    group = ''\n",
    "    defeated = []\n",
    "    for result in teamResults:\n",
    "        group = result.group\n",
    "        gs += result.gs\n",
    "        ga += result.ga\n",
    "        if result.gs > result.ga:\n",
    "            w += 1\n",
    "            defeated.append(result.opponent)\n",
    "        elif result.gs == result.ga:\n",
    "            d += 1\n",
    "    return TeamRecord(name=name, group=group, p=3*w+d, gs=gs, ga=ga, defeated=defeated)"
   ]
  },
  {
   "cell_type": "code",
   "execution_count": 31,
   "metadata": {},
   "outputs": [],
   "source": [
    "def runGroupStage(schedule, predictions, teams):\n",
    "    groupschedule = list(map(lambda x: getActualGroupMatch(x, teams), filter(lambda x: x.group != None, schedule)))\n",
    "    groupresults = list(map(lambda x: getResult(x, predictions), groupschedule))\n",
    "    groupperfs = list(chain.from_iterable(map(getTeamPerfFromResult, groupresults)))\n",
    "    records = []\n",
    "    for k, g in groupby(sorted(groupperfs, key=lambda x: x.name), key=lambda x: x.name):\n",
    "        records.append(getTeamRecord(k, g))\n",
    "    qualified = {}\n",
    "    group_standings = {}\n",
    "    for k, g in groupby(sorted(records, key=lambda x: x.group), key=lambda x: x.group):\n",
    "        grouptable = sorted(g, key=lambda x: 1000000*x.p + 10000*(x.gs-x.ga) + 100*(x.gs), reverse=True)\n",
    "        qualified['1' + k] = grouptable[0].name\n",
    "        qualified['2' + k] = grouptable[1].name\n",
    "        \n",
    "        group_standings['1' + k] = grouptable[0].name\n",
    "        group_standings['2' + k] = grouptable[1].name\n",
    "        group_standings['3' + k] = grouptable[2].name\n",
    "        group_standings['4' + k] = grouptable[3].name\n",
    "    return qualified, group_standings, groupresults"
   ]
  },
  {
   "cell_type": "code",
   "execution_count": 10,
   "metadata": {},
   "outputs": [],
   "source": [
    "def runEliminationRound(round, prevround, schedule, predictions):\n",
    "    roundschedule = list(map(lambda x: getActualEliminationMatch(x, prevround), filter(lambda x: x.gameId.startswith('G'+round), schedule)))\n",
    "    roundresults = list(map(lambda x: getResult(x, predictions), roundschedule))\n",
    "    results = {}\n",
    "    for result in roundresults:\n",
    "        results['W' + result.match.gameId] = result.match.team1 if result.team1Score > result.team2Score \\\n",
    "            else result.match.team2\n",
    "        results['L' + result.match.gameId] = result.match.team1 if result.team1Score < result.team2Score \\\n",
    "            else result.match.team2\n",
    "    return results"
   ]
  },
  {
   "cell_type": "code",
   "execution_count": null,
   "metadata": {},
   "outputs": [],
   "source": []
  },
  {
   "cell_type": "code",
   "execution_count": 11,
   "metadata": {},
   "outputs": [],
   "source": [
    "schedule = loadCsv('data/wc2018schedule.csv', Match)\n",
    "predictions = loadCsv('data/wc2018staticPredictions.csv', Prediction)\n",
    "teams = loadCsv('data/wc2018qualified.csv', Team)"
   ]
  },
  {
   "cell_type": "code",
   "execution_count": 65,
   "metadata": {},
   "outputs": [
    {
     "data": {
      "text/plain": [
       "[Match(gameId='GA1', date='14/06/2018', time='16:00', team1='A1', team2='A2', group='A'),\n",
       " Match(gameId='GA2', date='15/06/2018', time='13:00', team1='A3', team2='A4', group='A'),\n",
       " Match(gameId='GA3', date='19/06/2018', time='19:00', team1='A1', team2='A3', group='A'),\n",
       " Match(gameId='GA4', date='20/06/2018', time='16:00', team1='A4', team2='A2', group='A'),\n",
       " Match(gameId='GA5', date='25/06/2018', time='15:00', team1='A4', team2='A1', group='A'),\n",
       " Match(gameId='GA6', date='25/06/2018', time='15:00', team1='A2', team2='A3', group='A'),\n",
       " Match(gameId='GB1', date='15/06/2018', time='16:00', team1='B3', team2='B4', group='B'),\n",
       " Match(gameId='GB2', date='15/06/2018', time='19:00', team1='B1', team2='B2', group='B'),\n",
       " Match(gameId='GB3', date='20/06/2018', time='13:00', team1='B1', team2='B3', group='B'),\n",
       " Match(gameId='GB4', date='20/06/2018', time='19:00', team1='B4', team2='B2', group='B'),\n",
       " Match(gameId='GB5', date='25/06/2018', time='19:00', team1='B2', team2='B3', group='B'),\n",
       " Match(gameId='GB6', date='25/06/2018', time='19:00', team1='B4', team2='B1', group='B'),\n",
       " Match(gameId='GC1', date='16/06/2018', time='11:00', team1='C1', team2='C2', group='C'),\n",
       " Match(gameId='GC2', date='16/06/2018', time='17:00', team1='C3', team2='C4', group='C'),\n",
       " Match(gameId='GC3', date='21/06/2018', time='13:00', team1='C1', team2='C3', group='C'),\n",
       " Match(gameId='GC4', date='21/06/2018', time='16:00', team1='C4', team2='C2', group='C'),\n",
       " Match(gameId='GC5', date='26/06/2018', time='15:00', team1='C4', team2='C1', group='C'),\n",
       " Match(gameId='GC6', date='26/06/2018', time='15:00', team1='C2', team2='C3', group='C'),\n",
       " Match(gameId='GD1', date='16/06/2018', time='14:00', team1='D1', team2='D2', group='D'),\n",
       " Match(gameId='GD2', date='16/06/2018', time='20:00', team1='D3', team2='D4', group='D'),\n",
       " Match(gameId='GD3', date='21/06/2018', time='19:00', team1='D1', team2='D3', group='D'),\n",
       " Match(gameId='GD4', date='22/06/2018', time='16:00', team1='D4', team2='D2', group='D'),\n",
       " Match(gameId='GD5', date='26/06/2018', time='19:00', team1='D2', team2='D3', group='D'),\n",
       " Match(gameId='GD6', date='26/06/2018', time='19:00', team1='D4', team2='D1', group='D'),\n",
       " Match(gameId='GE1', date='17/06/2018', time='13:00', team1='E3', team2='E4', group='E'),\n",
       " Match(gameId='GE2', date='17/06/2018', time='19:00', team1='E1', team2='E2', group='E'),\n",
       " Match(gameId='GE3', date='22/06/2018', time='13:00', team1='E1', team2='E3', group='E'),\n",
       " Match(gameId='GE4', date='22/06/2018', time='19:00', team1='E4', team2='E2', group='E'),\n",
       " Match(gameId='GE5', date='27/06/2018', time='19:00', team1='E4', team2='E1', group='E'),\n",
       " Match(gameId='GE6', date='27/06/2018', time='19:00', team1='E2', team2='E3', group='E'),\n",
       " Match(gameId='GF1', date='17/06/2018', time='16:00', team1='F1', team2='F2', group='F'),\n",
       " Match(gameId='GF2', date='18/06/2018', time='13:00', team1='F3', team2='F4', group='F'),\n",
       " Match(gameId='GF3', date='23/06/2018', time='16:00', team1='F1', team2='F3', group='F'),\n",
       " Match(gameId='GF4', date='23/06/2018', time='19:00', team1='F4', team2='F2', group='F'),\n",
       " Match(gameId='GF5', date='27/06/2018', time='15:00', team1='F2', team2='F3', group='F'),\n",
       " Match(gameId='GF6', date='27/06/2018', time='15:00', team1='F4', team2='F1', group='F'),\n",
       " Match(gameId='GG1', date='18/06/2018', time='16:00', team1='G1', team2='G2', group='G'),\n",
       " Match(gameId='GG2', date='18/06/2018', time='19:00', team1='G3', team2='G4', group='G'),\n",
       " Match(gameId='GG3', date='23/06/2018', time='13:00', team1='G1', team2='G3', group='G'),\n",
       " Match(gameId='GG4', date='24/06/2018', time='13:00', team1='G4', team2='G2', group='G'),\n",
       " Match(gameId='GG5', date='28/06/2018', time='19:00', team1='G4', team2='G1', group='G'),\n",
       " Match(gameId='GG6', date='28/06/2018', time='19:00', team1='G2', team2='G3', group='G'),\n",
       " Match(gameId='GH1', date='19/06/2018', time='13:00', team1='H1', team2='H2', group='H'),\n",
       " Match(gameId='GH2', date='19/06/2018', time='16:00', team1='H3', team2='H4', group='H'),\n",
       " Match(gameId='GH3', date='24/06/2018', time='16:00', team1='H4', team2='H2', group='H'),\n",
       " Match(gameId='GH4', date='24/06/2018', time='19:00', team1='H1', team2='H3', group='H'),\n",
       " Match(gameId='GH5', date='28/06/2018', time='15:00', team1='H2', team2='H3', group='H'),\n",
       " Match(gameId='GH6', date='28/06/2018', time='15:00', team1='H4', team2='H1', group='H'),\n",
       " Match(gameId='GAF1', date='30/06/2018', time='15:00', team1='1C', team2='2D', group=''),\n",
       " Match(gameId='GAF2', date='30/06/2018', time='19:00', team1='1A', team2='2B', group=''),\n",
       " Match(gameId='GAF3', date='01/07/2018', time='15:00', team1='1B', team2='2A', group=''),\n",
       " Match(gameId='GAF4', date='01/07/2018', time='19:00', team1='1D', team2='2C', group=''),\n",
       " Match(gameId='GAF5', date='02/07/2018', time='15:00', team1='1E', team2='2F', group=''),\n",
       " Match(gameId='GAF6', date='02/07/2018', time='19:00', team1='1G', team2='2H', group=''),\n",
       " Match(gameId='GAF7', date='03/07/2018', time='15:00', team1='1F', team2='2E', group=''),\n",
       " Match(gameId='GAF8', date='03/07/2018', time='19:00', team1='1H', team2='2G', group=''),\n",
       " Match(gameId='GQF1', date='06/07/2018', time='15:00', team1='WGAF1', team2='WGAF2', group=''),\n",
       " Match(gameId='GQF2', date='06/07/2018', time='19:00', team1='WGAF6', team2='WGAF5', group=''),\n",
       " Match(gameId='GQF3', date='07/07/2018', time='15:00', team1='WGAF8', team2='WGAF7', group=''),\n",
       " Match(gameId='GQF4', date='07/07/2018', time='19:00', team1='WGAF3', team2='WGAF4', group=''),\n",
       " Match(gameId='GSF1', date='10/07/2018', time='19:00', team1='WGQF2', team2='WGQF1', group=''),\n",
       " Match(gameId='GSF2', date='11/07/2018', time='19:00', team1='WGQF4', team2='WGQF3', group=''),\n",
       " Match(gameId='GFN1', date='14/07/2018', time='15:00', team1='LGSF1', team2='LGSF2', group=''),\n",
       " Match(gameId='GFN2', date='15/07/2018', time='16:00', team1='WGSF1', team2='WGSF2', group='')]"
      ]
     },
     "execution_count": 65,
     "metadata": {},
     "output_type": "execute_result"
    }
   ],
   "source": [
    "schedule"
   ]
  },
  {
   "cell_type": "code",
   "execution_count": 43,
   "metadata": {},
   "outputs": [],
   "source": [
    "with open(\"simresultsasd.csv\", \"w+\") as f:\n",
    "#     f.write('iteration,winner\\n')\n",
    "    for i in range(1):\n",
    "#     for i in range(10000):\n",
    "        results, group_standings, groupresults = runGroupStage(schedule, predictions, teams)\n",
    "        asd = results\n",
    "        for rnd in ['AF','QF','SF','FN']:\n",
    "            results = runEliminationRound(rnd, results, schedule, predictions)\n",
    "\n",
    "#         f.write(str(i+1) + ',' + results['WGFN2'] + '\\n')"
   ]
  },
  {
   "cell_type": "code",
   "execution_count": 44,
   "metadata": {},
   "outputs": [
    {
     "data": {
      "text/plain": [
       "[Result(match=Match(gameId='GA1', date='14/06/2018', time='16:00', team1='RUS', team2='KSA', group='A'), team1Score=1, team2Score=0),\n",
       " Result(match=Match(gameId='GA2', date='15/06/2018', time='13:00', team1='EGY', team2='URU', group='A'), team1Score=1, team2Score=2),\n",
       " Result(match=Match(gameId='GA3', date='19/06/2018', time='19:00', team1='RUS', team2='EGY', group='A'), team1Score=5, team2Score=2),\n",
       " Result(match=Match(gameId='GA4', date='20/06/2018', time='16:00', team1='URU', team2='KSA', group='A'), team1Score=3, team2Score=1),\n",
       " Result(match=Match(gameId='GA5', date='25/06/2018', time='15:00', team1='URU', team2='RUS', group='A'), team1Score=0, team2Score=1),\n",
       " Result(match=Match(gameId='GA6', date='25/06/2018', time='15:00', team1='KSA', team2='EGY', group='A'), team1Score=0, team2Score=5),\n",
       " Result(match=Match(gameId='GB1', date='15/06/2018', time='16:00', team1='MAR', team2='IRN', group='B'), team1Score=0, team2Score=1),\n",
       " Result(match=Match(gameId='GB2', date='15/06/2018', time='19:00', team1='POR', team2='ESP', group='B'), team1Score=1, team2Score=1),\n",
       " Result(match=Match(gameId='GB3', date='20/06/2018', time='13:00', team1='POR', team2='MAR', group='B'), team1Score=3, team2Score=0),\n",
       " Result(match=Match(gameId='GB4', date='20/06/2018', time='19:00', team1='IRN', team2='ESP', group='B'), team1Score=2, team2Score=5),\n",
       " Result(match=Match(gameId='GB5', date='25/06/2018', time='19:00', team1='ESP', team2='MAR', group='B'), team1Score=4, team2Score=1),\n",
       " Result(match=Match(gameId='GB6', date='25/06/2018', time='19:00', team1='IRN', team2='POR', group='B'), team1Score=1, team2Score=0),\n",
       " Result(match=Match(gameId='GC1', date='16/06/2018', time='11:00', team1='FRA', team2='AUS', group='C'), team1Score=2, team2Score=2),\n",
       " Result(match=Match(gameId='GC2', date='16/06/2018', time='17:00', team1='PER', team2='DEN', group='C'), team1Score=1, team2Score=4),\n",
       " Result(match=Match(gameId='GC3', date='21/06/2018', time='13:00', team1='FRA', team2='PER', group='C'), team1Score=3, team2Score=0),\n",
       " Result(match=Match(gameId='GC4', date='21/06/2018', time='16:00', team1='DEN', team2='AUS', group='C'), team1Score=0, team2Score=0),\n",
       " Result(match=Match(gameId='GC5', date='26/06/2018', time='15:00', team1='DEN', team2='FRA', group='C'), team1Score=1, team2Score=2),\n",
       " Result(match=Match(gameId='GC6', date='26/06/2018', time='15:00', team1='AUS', team2='PER', group='C'), team1Score=3, team2Score=0),\n",
       " Result(match=Match(gameId='GD1', date='16/06/2018', time='14:00', team1='ARG', team2='ISL', group='D'), team1Score=2, team2Score=0),\n",
       " Result(match=Match(gameId='GD2', date='16/06/2018', time='20:00', team1='CRO', team2='NGA', group='D'), team1Score=2, team2Score=1),\n",
       " Result(match=Match(gameId='GD3', date='21/06/2018', time='19:00', team1='ARG', team2='CRO', group='D'), team1Score=2, team2Score=2),\n",
       " Result(match=Match(gameId='GD4', date='22/06/2018', time='16:00', team1='NGA', team2='ISL', group='D'), team1Score=0, team2Score=2),\n",
       " Result(match=Match(gameId='GD5', date='26/06/2018', time='19:00', team1='ISL', team2='CRO', group='D'), team1Score=0, team2Score=1),\n",
       " Result(match=Match(gameId='GD6', date='26/06/2018', time='19:00', team1='NGA', team2='ARG', group='D'), team1Score=0, team2Score=3),\n",
       " Result(match=Match(gameId='GE1', date='17/06/2018', time='13:00', team1='CRC', team2='SRB', group='E'), team1Score=0, team2Score=1),\n",
       " Result(match=Match(gameId='GE2', date='17/06/2018', time='19:00', team1='BRA', team2='SUI', group='E'), team1Score=1, team2Score=2),\n",
       " Result(match=Match(gameId='GE3', date='22/06/2018', time='13:00', team1='BRA', team2='CRC', group='E'), team1Score=1, team2Score=0),\n",
       " Result(match=Match(gameId='GE4', date='22/06/2018', time='19:00', team1='SRB', team2='SUI', group='E'), team1Score=5, team2Score=1),\n",
       " Result(match=Match(gameId='GE5', date='27/06/2018', time='19:00', team1='SRB', team2='BRA', group='E'), team1Score=0, team2Score=5),\n",
       " Result(match=Match(gameId='GE6', date='27/06/2018', time='19:00', team1='SUI', team2='CRC', group='E'), team1Score=1, team2Score=2),\n",
       " Result(match=Match(gameId='GF1', date='17/06/2018', time='16:00', team1='GER', team2='SWE', group='F'), team1Score=2, team2Score=1),\n",
       " Result(match=Match(gameId='GF2', date='18/06/2018', time='13:00', team1='MEX', team2='KOR', group='F'), team1Score=2, team2Score=1),\n",
       " Result(match=Match(gameId='GF3', date='23/06/2018', time='16:00', team1='GER', team2='MEX', group='F'), team1Score=2, team2Score=1),\n",
       " Result(match=Match(gameId='GF4', date='23/06/2018', time='19:00', team1='KOR', team2='SWE', group='F'), team1Score=1, team2Score=0),\n",
       " Result(match=Match(gameId='GF5', date='27/06/2018', time='15:00', team1='SWE', team2='MEX', group='F'), team1Score=0, team2Score=1),\n",
       " Result(match=Match(gameId='GF6', date='27/06/2018', time='15:00', team1='KOR', team2='GER', group='F'), team1Score=1, team2Score=3),\n",
       " Result(match=Match(gameId='GG1', date='18/06/2018', time='16:00', team1='BEL', team2='PAN', group='G'), team1Score=2, team2Score=2),\n",
       " Result(match=Match(gameId='GG2', date='18/06/2018', time='19:00', team1='TUN', team2='ENG', group='G'), team1Score=5, team2Score=1),\n",
       " Result(match=Match(gameId='GG3', date='23/06/2018', time='13:00', team1='BEL', team2='TUN', group='G'), team1Score=5, team2Score=0),\n",
       " Result(match=Match(gameId='GG4', date='24/06/2018', time='13:00', team1='ENG', team2='PAN', group='G'), team1Score=4, team2Score=1),\n",
       " Result(match=Match(gameId='GG5', date='28/06/2018', time='19:00', team1='ENG', team2='BEL', group='G'), team1Score=3, team2Score=1),\n",
       " Result(match=Match(gameId='GG6', date='28/06/2018', time='19:00', team1='PAN', team2='TUN', group='G'), team1Score=3, team2Score=1),\n",
       " Result(match=Match(gameId='GH1', date='19/06/2018', time='13:00', team1='POL', team2='SEN', group='H'), team1Score=1, team2Score=1),\n",
       " Result(match=Match(gameId='GH2', date='19/06/2018', time='16:00', team1='COL', team2='JPN', group='H'), team1Score=5, team2Score=1),\n",
       " Result(match=Match(gameId='GH3', date='24/06/2018', time='16:00', team1='JPN', team2='SEN', group='H'), team1Score=2, team2Score=1),\n",
       " Result(match=Match(gameId='GH4', date='24/06/2018', time='19:00', team1='POL', team2='COL', group='H'), team1Score=1, team2Score=0),\n",
       " Result(match=Match(gameId='GH5', date='28/06/2018', time='15:00', team1='SEN', team2='COL', group='H'), team1Score=0, team2Score=0),\n",
       " Result(match=Match(gameId='GH6', date='28/06/2018', time='15:00', team1='JPN', team2='POL', group='H'), team1Score=1, team2Score=2)]"
      ]
     },
     "execution_count": 44,
     "metadata": {},
     "output_type": "execute_result"
    }
   ],
   "source": [
    "groupresults"
   ]
  },
  {
   "cell_type": "code",
   "execution_count": null,
   "metadata": {},
   "outputs": [],
   "source": []
  },
  {
   "cell_type": "code",
   "execution_count": 13,
   "metadata": {},
   "outputs": [],
   "source": [
    "data = open('simresults.csv').readlines()"
   ]
  },
  {
   "cell_type": "code",
   "execution_count": 14,
   "metadata": {},
   "outputs": [],
   "source": [
    "winners = [line.strip().split(',')[1] for line in data[1:]]"
   ]
  },
  {
   "cell_type": "code",
   "execution_count": 15,
   "metadata": {},
   "outputs": [],
   "source": [
    "from collections import Counter"
   ]
  },
  {
   "cell_type": "code",
   "execution_count": null,
   "metadata": {},
   "outputs": [],
   "source": []
  },
  {
   "cell_type": "code",
   "execution_count": 16,
   "metadata": {},
   "outputs": [
    {
     "data": {
      "text/plain": [
       "[('BRA', 1248),\n",
       " ('ARG', 1101),\n",
       " ('GER', 952),\n",
       " ('RUS', 887),\n",
       " ('ENG', 709),\n",
       " ('POR', 687),\n",
       " ('FRA', 614),\n",
       " ('ESP', 613),\n",
       " ('SUI', 536),\n",
       " ('CRO', 405),\n",
       " ('BEL', 381),\n",
       " ('DEN', 223),\n",
       " ('COL', 193),\n",
       " ('SRB', 175),\n",
       " ('URU', 168),\n",
       " ('MEX', 156),\n",
       " ('POL', 105),\n",
       " ('SWE', 104),\n",
       " ('KOR', 99),\n",
       " ('AUS', 91),\n",
       " ('IRN', 87),\n",
       " ('JPN', 86),\n",
       " ('KSA', 81),\n",
       " ('CRC', 64),\n",
       " ('NGA', 57),\n",
       " ('SEN', 36),\n",
       " ('TUN', 32),\n",
       " ('PAN', 31),\n",
       " ('EGY', 26),\n",
       " ('MAR', 22),\n",
       " ('ISL', 16),\n",
       " ('PER', 15)]"
      ]
     },
     "execution_count": 16,
     "metadata": {},
     "output_type": "execute_result"
    }
   ],
   "source": [
    "Counter(winners).most_common()"
   ]
  },
  {
   "cell_type": "code",
   "execution_count": null,
   "metadata": {},
   "outputs": [],
   "source": []
  },
  {
   "cell_type": "code",
   "execution_count": null,
   "metadata": {},
   "outputs": [],
   "source": []
  },
  {
   "cell_type": "code",
   "execution_count": 45,
   "metadata": {},
   "outputs": [],
   "source": [
    "schedule_fifa_sm = open('worldcup/static/data/schedule_fifa.csv').readlines()"
   ]
  },
  {
   "cell_type": "code",
   "execution_count": 46,
   "metadata": {},
   "outputs": [],
   "source": [
    "schedule_fifa_sm = [line.strip() for line in schedule_fifa_sm[1:-16]]"
   ]
  },
  {
   "cell_type": "code",
   "execution_count": 47,
   "metadata": {
    "scrolled": true
   },
   "outputs": [],
   "source": [
    "teams = open('data/teams.csv').readlines()"
   ]
  },
  {
   "cell_type": "code",
   "execution_count": 48,
   "metadata": {},
   "outputs": [],
   "source": [
    "teams = {team.split(',')[1]:team.split(',')[2] for team in teams[1:]}"
   ]
  },
  {
   "cell_type": "code",
   "execution_count": null,
   "metadata": {},
   "outputs": [],
   "source": []
  },
  {
   "cell_type": "code",
   "execution_count": 58,
   "metadata": {},
   "outputs": [],
   "source": [
    "groupss = open('data/wc2018qualified.csv').readlines()"
   ]
  },
  {
   "cell_type": "code",
   "execution_count": 59,
   "metadata": {},
   "outputs": [],
   "source": [
    "groupss = [line.strip() for line in groupss[1:]]"
   ]
  },
  {
   "cell_type": "code",
   "execution_count": 60,
   "metadata": {},
   "outputs": [],
   "source": [
    "groupss = {elem.split(',')[0]:elem.split(',')[1] for elem in groupss}"
   ]
  },
  {
   "cell_type": "code",
   "execution_count": null,
   "metadata": {},
   "outputs": [],
   "source": []
  },
  {
   "cell_type": "code",
   "execution_count": 49,
   "metadata": {},
   "outputs": [],
   "source": [
    "#gameId,date,time,team1,team2,group"
   ]
  },
  {
   "cell_type": "code",
   "execution_count": null,
   "metadata": {},
   "outputs": [],
   "source": []
  },
  {
   "cell_type": "code",
   "execution_count": 64,
   "metadata": {},
   "outputs": [],
   "source": [
    "gid_counter = {'A': 0, 'B' : 0, 'C' : 0, 'D' : 0, 'E' : 0, 'F' : 0, 'G' : 0, 'H' : 0}\n",
    "with open('schedule_fifa_fs.csv', 'w') as out_file:\n",
    "    for match in schedule_fifa_sm:\n",
    "        elems = match.split(',')\n",
    "#         if elems[0] is in ['123']:\n",
    "        group = elems[-2].split(' ')[-1]\n",
    "        gid_counter[group] = gid_counter[group] + 1\n",
    "        \n",
    "        gameID = 'G{}{}'.format(group, gid_counter[group])\n",
    "        date = elems[1].split(' ')[0]\n",
    "        time = elems[1].split(' ')[1]\n",
    "        team1 = groupss[teams[elems[-3]]]\n",
    "        team2 = groupss[teams[elems[-4]]]\n",
    "        \n",
    "        out_file.write('{},{},{},{},{},{}\\n'.format(gameID, date, time, team1, team2, group))\n",
    "    \n",
    "    "
   ]
  },
  {
   "cell_type": "code",
   "execution_count": 63,
   "metadata": {},
   "outputs": [
    {
     "data": {
      "text/plain": [
       "'G1'"
      ]
     },
     "execution_count": 63,
     "metadata": {},
     "output_type": "execute_result"
    }
   ],
   "source": [
    "groupss[teams[elems[-3]]]"
   ]
  },
  {
   "cell_type": "code",
   "execution_count": null,
   "metadata": {},
   "outputs": [],
   "source": []
  },
  {
   "cell_type": "code",
   "execution_count": null,
   "metadata": {},
   "outputs": [],
   "source": []
  }
 ],
 "metadata": {
  "kernelspec": {
   "display_name": "Python 3",
   "language": "python",
   "name": "python3"
  },
  "language_info": {
   "codemirror_mode": {
    "name": "ipython",
    "version": 3
   },
   "file_extension": ".py",
   "mimetype": "text/x-python",
   "name": "python",
   "nbconvert_exporter": "python",
   "pygments_lexer": "ipython3",
   "version": "3.6.5"
  }
 },
 "nbformat": 4,
 "nbformat_minor": 2
}
